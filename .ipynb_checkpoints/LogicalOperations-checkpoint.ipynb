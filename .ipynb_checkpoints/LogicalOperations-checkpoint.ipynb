{
 "cells": [
  {
   "cell_type": "markdown",
   "id": "c61bc654-3f36-42df-9711-c9c26ebed70d",
   "metadata": {},
   "source": [
    "# Logical Operations\n",
    "\n",
    "We will see how logical operations can be applied to images and how they can be used forr binary masks.\n",
    "Logical operations are often used with binary masks to process slective portions of an image. In this notebook we will cover:\n",
    "+ Introduction to logical operators\n",
    "+ Bitwise operations on images: AND, NOT, OR, XOR\n",
    "+ Logo manipulation example"
   ]
  },
  {
   "cell_type": "code",
   "execution_count": 1,
   "id": "4f2c4144-b68b-4c9e-a4bf-6214983abc1a",
   "metadata": {},
   "outputs": [],
   "source": [
    "import cv2\n",
    "import numpy as np\n",
    "import matplotlib.pyplot as plt\n",
    "from PIL import Image\n",
    "%matplotlib inline\n",
    "plt.rcParams['image.cmap'] = 'gray'"
   ]
  },
  {
   "cell_type": "code",
   "execution_count": null,
   "id": "7c2d81e7-bed6-4014-af86-912d5e58fe2a",
   "metadata": {},
   "outputs": [],
   "source": []
  }
 ],
 "metadata": {
  "kernelspec": {
   "display_name": "Python 3 (ipykernel)",
   "language": "python",
   "name": "python3"
  },
  "language_info": {
   "codemirror_mode": {
    "name": "ipython",
    "version": 3
   },
   "file_extension": ".py",
   "mimetype": "text/x-python",
   "name": "python",
   "nbconvert_exporter": "python",
   "pygments_lexer": "ipython3",
   "version": "3.9.12"
  }
 },
 "nbformat": 4,
 "nbformat_minor": 5
}

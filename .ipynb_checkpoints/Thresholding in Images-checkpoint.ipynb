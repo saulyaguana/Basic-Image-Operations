{
 "cells": [
  {
   "cell_type": "markdown",
   "id": "d66e5257-4090-4e8b-9d6c-3758df016f65",
   "metadata": {},
   "source": [
    "# Thresholding\n",
    "\n",
    "Thresholding is one of the most important and fundamental operations in computer vision.\n",
    "\n",
    "Thresholding is often used to create binary images that allow you to perform follow-on processing tasks form many different types of applications.\n",
    "\n",
    "---\n",
    "\n",
    "+ In this notebook we are going to see **two types of thresholding operations**:\n",
    "1. Global.\n",
    "2. Adaptive.\n",
    "\n",
    "---\n",
    "\n",
    "This could be one of the first processing steps in an application that performs lane detection.\n",
    "\n",
    "---\n",
    "\n",
    "# 1. Global Thresholding\n",
    "\n",
    "In OpenCV there is a threshold function and it has four required arguments\n",
    "1. The image for which we want to perform thresholding on\n",
    "2. Is a global threshold value that you specify.\n",
    "3. The maximum value that's used for creating the binary map.\n",
    "4. The type of thresholding that's going to be performed"
   ]
  },
  {
   "cell_type": "code",
   "execution_count": 1,
   "id": "c75e146d-6d6a-4053-8dab-e2424af21f34",
   "metadata": {},
   "outputs": [],
   "source": [
    "import cv2\n",
    "import numpy as np\n",
    "import matplotlib.pyplot as plt\n",
    "%matplotlib inline\n",
    "plt.rcParams['image.cmap'] = 'gray'"
   ]
  },
  {
   "cell_type": "code",
   "execution_count": null,
   "id": "c00c7ea9-1651-44bf-9318-ebafe93633ec",
   "metadata": {},
   "outputs": [],
   "source": []
  }
 ],
 "metadata": {
  "kernelspec": {
   "display_name": "Python 3 (ipykernel)",
   "language": "python",
   "name": "python3"
  },
  "language_info": {
   "codemirror_mode": {
    "name": "ipython",
    "version": 3
   },
   "file_extension": ".py",
   "mimetype": "text/x-python",
   "name": "python",
   "nbconvert_exporter": "python",
   "pygments_lexer": "ipython3",
   "version": "3.9.12"
  }
 },
 "nbformat": 4,
 "nbformat_minor": 5
}
